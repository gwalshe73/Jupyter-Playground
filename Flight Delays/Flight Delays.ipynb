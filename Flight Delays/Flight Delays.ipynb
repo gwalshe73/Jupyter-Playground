{
  "cells": [
    {
      "cell_type": "code",
      "execution_count": 1,
      "outputs": [
        {
          "name": "stderr",
          "text": [
            "  % Total    % Received % Xferd  Average Speed   Time    Time     Time  Current\n                                 Dload  Upload   Total   Spent    Left  Speed\n\n  0     0    0     0    0     0      0      0 --:--:-- --:--:-- --:--:--     0\n  2 1552k    2 32362    0     0  32362      0  0:00:49 --:--:--  0:00:49 33922\n100 1552k  100 1552k    0     0  1552k      0  0:00:01  0:00:01 --:--:--  842k\n"
          ],
          "output_type": "stream"
        }
      ],
      "source": "!curl https://topcs.blob.core.windows.net/public/FlightData.csv -o flightdata.csv",
      "metadata": {
        "pycharm": {
          "metadata": false,
          "name": "#%%\n"
        }
      }
    },
    {
      "cell_type": "code",
      "execution_count": 2,
      "outputs": [],
      "source": "import pandas as pd",
      "metadata": {
        "pycharm": {
          "metadata": false,
          "name": "#%%\n"
        }
      }
    },
    {
      "cell_type": "code",
      "execution_count": 3,
      "outputs": [
        {
          "data": {
            "text/plain": "   YEAR  QUARTER  MONTH  DAY_OF_MONTH  DAY_OF_WEEK UNIQUE_CARRIER TAIL_NUM  \\\n0  2016        1      1             1            5             DL   N836DN   \n1  2016        1      1             1            5             DL   N964DN   \n2  2016        1      1             1            5             DL   N813DN   \n3  2016        1      1             1            5             DL   N587NW   \n4  2016        1      1             1            5             DL   N836DN   \n\n   FL_NUM  ORIGIN_AIRPORT_ID ORIGIN  ...  CRS_ARR_TIME ARR_TIME  ARR_DELAY  \\\n0    1399              10397    ATL  ...          2143   2102.0      -41.0   \n1    1476              11433    DTW  ...          1435   1439.0        4.0   \n2    1597              10397    ATL  ...          1215   1142.0      -33.0   \n3    1768              14747    SEA  ...          1335   1345.0       10.0   \n4    1823              14747    SEA  ...           607    615.0        8.0   \n\n   ARR_DEL15  CANCELLED  DIVERTED  CRS_ELAPSED_TIME  ACTUAL_ELAPSED_TIME  \\\n0        0.0        0.0       0.0             338.0                295.0   \n1        0.0        0.0       0.0             110.0                115.0   \n2        0.0        0.0       0.0             335.0                300.0   \n3        0.0        0.0       0.0             196.0                205.0   \n4        0.0        0.0       0.0             247.0                259.0   \n\n   DISTANCE  Unnamed: 25  \n0    2182.0          NaN  \n1     528.0          NaN  \n2    2182.0          NaN  \n3    1399.0          NaN  \n4    1927.0          NaN  \n\n[5 rows x 26 columns]",
            "text/html": "\u003cdiv\u003e\n\u003cstyle scoped\u003e\n    .dataframe tbody tr th:only-of-type {\n        vertical-align: middle;\n    }\n\n    .dataframe tbody tr th {\n        vertical-align: top;\n    }\n\n    .dataframe thead th {\n        text-align: right;\n    }\n\u003c/style\u003e\n\u003ctable border\u003d\"1\" class\u003d\"dataframe\"\u003e\n  \u003cthead\u003e\n    \u003ctr style\u003d\"text-align: right;\"\u003e\n      \u003cth\u003e\u003c/th\u003e\n      \u003cth\u003eYEAR\u003c/th\u003e\n      \u003cth\u003eQUARTER\u003c/th\u003e\n      \u003cth\u003eMONTH\u003c/th\u003e\n      \u003cth\u003eDAY_OF_MONTH\u003c/th\u003e\n      \u003cth\u003eDAY_OF_WEEK\u003c/th\u003e\n      \u003cth\u003eUNIQUE_CARRIER\u003c/th\u003e\n      \u003cth\u003eTAIL_NUM\u003c/th\u003e\n      \u003cth\u003eFL_NUM\u003c/th\u003e\n      \u003cth\u003eORIGIN_AIRPORT_ID\u003c/th\u003e\n      \u003cth\u003eORIGIN\u003c/th\u003e\n      \u003cth\u003e...\u003c/th\u003e\n      \u003cth\u003eCRS_ARR_TIME\u003c/th\u003e\n      \u003cth\u003eARR_TIME\u003c/th\u003e\n      \u003cth\u003eARR_DELAY\u003c/th\u003e\n      \u003cth\u003eARR_DEL15\u003c/th\u003e\n      \u003cth\u003eCANCELLED\u003c/th\u003e\n      \u003cth\u003eDIVERTED\u003c/th\u003e\n      \u003cth\u003eCRS_ELAPSED_TIME\u003c/th\u003e\n      \u003cth\u003eACTUAL_ELAPSED_TIME\u003c/th\u003e\n      \u003cth\u003eDISTANCE\u003c/th\u003e\n      \u003cth\u003eUnnamed: 25\u003c/th\u003e\n    \u003c/tr\u003e\n  \u003c/thead\u003e\n  \u003ctbody\u003e\n    \u003ctr\u003e\n      \u003cth\u003e0\u003c/th\u003e\n      \u003ctd\u003e2016\u003c/td\u003e\n      \u003ctd\u003e1\u003c/td\u003e\n      \u003ctd\u003e1\u003c/td\u003e\n      \u003ctd\u003e1\u003c/td\u003e\n      \u003ctd\u003e5\u003c/td\u003e\n      \u003ctd\u003eDL\u003c/td\u003e\n      \u003ctd\u003eN836DN\u003c/td\u003e\n      \u003ctd\u003e1399\u003c/td\u003e\n      \u003ctd\u003e10397\u003c/td\u003e\n      \u003ctd\u003eATL\u003c/td\u003e\n      \u003ctd\u003e...\u003c/td\u003e\n      \u003ctd\u003e2143\u003c/td\u003e\n      \u003ctd\u003e2102.0\u003c/td\u003e\n      \u003ctd\u003e-41.0\u003c/td\u003e\n      \u003ctd\u003e0.0\u003c/td\u003e\n      \u003ctd\u003e0.0\u003c/td\u003e\n      \u003ctd\u003e0.0\u003c/td\u003e\n      \u003ctd\u003e338.0\u003c/td\u003e\n      \u003ctd\u003e295.0\u003c/td\u003e\n      \u003ctd\u003e2182.0\u003c/td\u003e\n      \u003ctd\u003eNaN\u003c/td\u003e\n    \u003c/tr\u003e\n    \u003ctr\u003e\n      \u003cth\u003e1\u003c/th\u003e\n      \u003ctd\u003e2016\u003c/td\u003e\n      \u003ctd\u003e1\u003c/td\u003e\n      \u003ctd\u003e1\u003c/td\u003e\n      \u003ctd\u003e1\u003c/td\u003e\n      \u003ctd\u003e5\u003c/td\u003e\n      \u003ctd\u003eDL\u003c/td\u003e\n      \u003ctd\u003eN964DN\u003c/td\u003e\n      \u003ctd\u003e1476\u003c/td\u003e\n      \u003ctd\u003e11433\u003c/td\u003e\n      \u003ctd\u003eDTW\u003c/td\u003e\n      \u003ctd\u003e...\u003c/td\u003e\n      \u003ctd\u003e1435\u003c/td\u003e\n      \u003ctd\u003e1439.0\u003c/td\u003e\n      \u003ctd\u003e4.0\u003c/td\u003e\n      \u003ctd\u003e0.0\u003c/td\u003e\n      \u003ctd\u003e0.0\u003c/td\u003e\n      \u003ctd\u003e0.0\u003c/td\u003e\n      \u003ctd\u003e110.0\u003c/td\u003e\n      \u003ctd\u003e115.0\u003c/td\u003e\n      \u003ctd\u003e528.0\u003c/td\u003e\n      \u003ctd\u003eNaN\u003c/td\u003e\n    \u003c/tr\u003e\n    \u003ctr\u003e\n      \u003cth\u003e2\u003c/th\u003e\n      \u003ctd\u003e2016\u003c/td\u003e\n      \u003ctd\u003e1\u003c/td\u003e\n      \u003ctd\u003e1\u003c/td\u003e\n      \u003ctd\u003e1\u003c/td\u003e\n      \u003ctd\u003e5\u003c/td\u003e\n      \u003ctd\u003eDL\u003c/td\u003e\n      \u003ctd\u003eN813DN\u003c/td\u003e\n      \u003ctd\u003e1597\u003c/td\u003e\n      \u003ctd\u003e10397\u003c/td\u003e\n      \u003ctd\u003eATL\u003c/td\u003e\n      \u003ctd\u003e...\u003c/td\u003e\n      \u003ctd\u003e1215\u003c/td\u003e\n      \u003ctd\u003e1142.0\u003c/td\u003e\n      \u003ctd\u003e-33.0\u003c/td\u003e\n      \u003ctd\u003e0.0\u003c/td\u003e\n      \u003ctd\u003e0.0\u003c/td\u003e\n      \u003ctd\u003e0.0\u003c/td\u003e\n      \u003ctd\u003e335.0\u003c/td\u003e\n      \u003ctd\u003e300.0\u003c/td\u003e\n      \u003ctd\u003e2182.0\u003c/td\u003e\n      \u003ctd\u003eNaN\u003c/td\u003e\n    \u003c/tr\u003e\n    \u003ctr\u003e\n      \u003cth\u003e3\u003c/th\u003e\n      \u003ctd\u003e2016\u003c/td\u003e\n      \u003ctd\u003e1\u003c/td\u003e\n      \u003ctd\u003e1\u003c/td\u003e\n      \u003ctd\u003e1\u003c/td\u003e\n      \u003ctd\u003e5\u003c/td\u003e\n      \u003ctd\u003eDL\u003c/td\u003e\n      \u003ctd\u003eN587NW\u003c/td\u003e\n      \u003ctd\u003e1768\u003c/td\u003e\n      \u003ctd\u003e14747\u003c/td\u003e\n      \u003ctd\u003eSEA\u003c/td\u003e\n      \u003ctd\u003e...\u003c/td\u003e\n      \u003ctd\u003e1335\u003c/td\u003e\n      \u003ctd\u003e1345.0\u003c/td\u003e\n      \u003ctd\u003e10.0\u003c/td\u003e\n      \u003ctd\u003e0.0\u003c/td\u003e\n      \u003ctd\u003e0.0\u003c/td\u003e\n      \u003ctd\u003e0.0\u003c/td\u003e\n      \u003ctd\u003e196.0\u003c/td\u003e\n      \u003ctd\u003e205.0\u003c/td\u003e\n      \u003ctd\u003e1399.0\u003c/td\u003e\n      \u003ctd\u003eNaN\u003c/td\u003e\n    \u003c/tr\u003e\n    \u003ctr\u003e\n      \u003cth\u003e4\u003c/th\u003e\n      \u003ctd\u003e2016\u003c/td\u003e\n      \u003ctd\u003e1\u003c/td\u003e\n      \u003ctd\u003e1\u003c/td\u003e\n      \u003ctd\u003e1\u003c/td\u003e\n      \u003ctd\u003e5\u003c/td\u003e\n      \u003ctd\u003eDL\u003c/td\u003e\n      \u003ctd\u003eN836DN\u003c/td\u003e\n      \u003ctd\u003e1823\u003c/td\u003e\n      \u003ctd\u003e14747\u003c/td\u003e\n      \u003ctd\u003eSEA\u003c/td\u003e\n      \u003ctd\u003e...\u003c/td\u003e\n      \u003ctd\u003e607\u003c/td\u003e\n      \u003ctd\u003e615.0\u003c/td\u003e\n      \u003ctd\u003e8.0\u003c/td\u003e\n      \u003ctd\u003e0.0\u003c/td\u003e\n      \u003ctd\u003e0.0\u003c/td\u003e\n      \u003ctd\u003e0.0\u003c/td\u003e\n      \u003ctd\u003e247.0\u003c/td\u003e\n      \u003ctd\u003e259.0\u003c/td\u003e\n      \u003ctd\u003e1927.0\u003c/td\u003e\n      \u003ctd\u003eNaN\u003c/td\u003e\n    \u003c/tr\u003e\n  \u003c/tbody\u003e\n\u003c/table\u003e\n\u003cp\u003e5 rows × 26 columns\u003c/p\u003e\n\u003c/div\u003e"
          },
          "metadata": {},
          "output_type": "execute_result",
          "execution_count": 3
        }
      ],
      "source": "df \u003d pd.read_csv(\u0027flightdata.csv\u0027)\ndf.head()",
      "metadata": {
        "pycharm": {
          "metadata": false,
          "name": "#%%\n"
        }
      }
    },
    {
      "cell_type": "code",
      "execution_count": 4,
      "outputs": [
        {
          "data": {
            "text/plain": "(11231, 26)"
          },
          "metadata": {},
          "output_type": "execute_result",
          "execution_count": 4
        }
      ],
      "source": "df.shape",
      "metadata": {
        "pycharm": {
          "metadata": false,
          "name": "#%%\n"
        }
      }
    },
    {
      "cell_type": "code",
      "execution_count": 5,
      "outputs": [
        {
          "data": {
            "text/plain": "True"
          },
          "metadata": {},
          "output_type": "execute_result",
          "execution_count": 5
        }
      ],
      "source": "df.isnull().values.any()",
      "metadata": {
        "pycharm": {
          "metadata": false,
          "name": "#%%\n"
        }
      }
    },
    {
      "cell_type": "code",
      "execution_count": 6,
      "outputs": [
        {
          "data": {
            "text/plain": "YEAR                       0\nQUARTER                    0\nMONTH                      0\nDAY_OF_MONTH               0\nDAY_OF_WEEK                0\nUNIQUE_CARRIER             0\nTAIL_NUM                   0\nFL_NUM                     0\nORIGIN_AIRPORT_ID          0\nORIGIN                     0\nDEST_AIRPORT_ID            0\nDEST                       0\nCRS_DEP_TIME               0\nDEP_TIME                 107\nDEP_DELAY                107\nDEP_DEL15                107\nCRS_ARR_TIME               0\nARR_TIME                 115\nARR_DELAY                188\nARR_DEL15                188\nCANCELLED                  0\nDIVERTED                   0\nCRS_ELAPSED_TIME           0\nACTUAL_ELAPSED_TIME      188\nDISTANCE                   0\nUnnamed: 25            11231\ndtype: int64"
          },
          "metadata": {},
          "output_type": "execute_result",
          "execution_count": 6
        }
      ],
      "source": "df.isnull().sum()\n",
      "metadata": {
        "pycharm": {
          "metadata": false,
          "name": "#%%\n"
        }
      }
    },
    {
      "cell_type": "code",
      "execution_count": 7,
      "outputs": [
        {
          "data": {
            "text/plain": "YEAR                     0\nQUARTER                  0\nMONTH                    0\nDAY_OF_MONTH             0\nDAY_OF_WEEK              0\nUNIQUE_CARRIER           0\nTAIL_NUM                 0\nFL_NUM                   0\nORIGIN_AIRPORT_ID        0\nORIGIN                   0\nDEST_AIRPORT_ID          0\nDEST                     0\nCRS_DEP_TIME             0\nDEP_TIME               107\nDEP_DELAY              107\nDEP_DEL15              107\nCRS_ARR_TIME             0\nARR_TIME               115\nARR_DELAY              188\nARR_DEL15              188\nCANCELLED                0\nDIVERTED                 0\nCRS_ELAPSED_TIME         0\nACTUAL_ELAPSED_TIME    188\nDISTANCE                 0\ndtype: int64"
          },
          "metadata": {},
          "output_type": "execute_result",
          "execution_count": 7
        }
      ],
      "source": "\ndf \u003d df.drop(\u0027Unnamed: 25\u0027, axis\u003d1)\ndf.isnull().sum()",
      "metadata": {
        "pycharm": {
          "metadata": false,
          "name": "#%%\n"
        }
      }
    },
    {
      "cell_type": "code",
      "execution_count": 8,
      "outputs": [
        {
          "data": {
            "text/plain": "MONTH             0\nDAY_OF_MONTH      0\nDAY_OF_WEEK       0\nORIGIN            0\nDEST              0\nCRS_DEP_TIME      0\nARR_DEL15       188\ndtype: int64"
          },
          "metadata": {},
          "output_type": "execute_result",
          "execution_count": 8
        }
      ],
      "source": "df \u003d df[[\u0027MONTH\u0027, \u0027DAY_OF_MONTH\u0027, \u0027DAY_OF_WEEK\u0027, \u0027ORIGIN\u0027, \u0027DEST\u0027, \u0027CRS_DEP_TIME\u0027, \u0027ARR_DEL15\u0027]]\ndf.isnull().sum()",
      "metadata": {
        "pycharm": {
          "metadata": false,
          "name": "#%%\n"
        }
      }
    },
    {
      "cell_type": "code",
      "execution_count": 9,
      "outputs": [
        {
          "data": {
            "text/plain": "     MONTH  DAY_OF_MONTH  DAY_OF_WEEK ORIGIN DEST  CRS_DEP_TIME  ARR_DEL15\n177      1             9            6    MSP  SEA           701        NaN\n179      1            10            7    MSP  DTW          1348        NaN\n184      1            10            7    MSP  DTW           625        NaN\n210      1            10            7    DTW  MSP          1200        NaN\n478      1            22            5    SEA  JFK          2305        NaN",
            "text/html": "\u003cdiv\u003e\n\u003cstyle scoped\u003e\n    .dataframe tbody tr th:only-of-type {\n        vertical-align: middle;\n    }\n\n    .dataframe tbody tr th {\n        vertical-align: top;\n    }\n\n    .dataframe thead th {\n        text-align: right;\n    }\n\u003c/style\u003e\n\u003ctable border\u003d\"1\" class\u003d\"dataframe\"\u003e\n  \u003cthead\u003e\n    \u003ctr style\u003d\"text-align: right;\"\u003e\n      \u003cth\u003e\u003c/th\u003e\n      \u003cth\u003eMONTH\u003c/th\u003e\n      \u003cth\u003eDAY_OF_MONTH\u003c/th\u003e\n      \u003cth\u003eDAY_OF_WEEK\u003c/th\u003e\n      \u003cth\u003eORIGIN\u003c/th\u003e\n      \u003cth\u003eDEST\u003c/th\u003e\n      \u003cth\u003eCRS_DEP_TIME\u003c/th\u003e\n      \u003cth\u003eARR_DEL15\u003c/th\u003e\n    \u003c/tr\u003e\n  \u003c/thead\u003e\n  \u003ctbody\u003e\n    \u003ctr\u003e\n      \u003cth\u003e177\u003c/th\u003e\n      \u003ctd\u003e1\u003c/td\u003e\n      \u003ctd\u003e9\u003c/td\u003e\n      \u003ctd\u003e6\u003c/td\u003e\n      \u003ctd\u003eMSP\u003c/td\u003e\n      \u003ctd\u003eSEA\u003c/td\u003e\n      \u003ctd\u003e701\u003c/td\u003e\n      \u003ctd\u003eNaN\u003c/td\u003e\n    \u003c/tr\u003e\n    \u003ctr\u003e\n      \u003cth\u003e179\u003c/th\u003e\n      \u003ctd\u003e1\u003c/td\u003e\n      \u003ctd\u003e10\u003c/td\u003e\n      \u003ctd\u003e7\u003c/td\u003e\n      \u003ctd\u003eMSP\u003c/td\u003e\n      \u003ctd\u003eDTW\u003c/td\u003e\n      \u003ctd\u003e1348\u003c/td\u003e\n      \u003ctd\u003eNaN\u003c/td\u003e\n    \u003c/tr\u003e\n    \u003ctr\u003e\n      \u003cth\u003e184\u003c/th\u003e\n      \u003ctd\u003e1\u003c/td\u003e\n      \u003ctd\u003e10\u003c/td\u003e\n      \u003ctd\u003e7\u003c/td\u003e\n      \u003ctd\u003eMSP\u003c/td\u003e\n      \u003ctd\u003eDTW\u003c/td\u003e\n      \u003ctd\u003e625\u003c/td\u003e\n      \u003ctd\u003eNaN\u003c/td\u003e\n    \u003c/tr\u003e\n    \u003ctr\u003e\n      \u003cth\u003e210\u003c/th\u003e\n      \u003ctd\u003e1\u003c/td\u003e\n      \u003ctd\u003e10\u003c/td\u003e\n      \u003ctd\u003e7\u003c/td\u003e\n      \u003ctd\u003eDTW\u003c/td\u003e\n      \u003ctd\u003eMSP\u003c/td\u003e\n      \u003ctd\u003e1200\u003c/td\u003e\n      \u003ctd\u003eNaN\u003c/td\u003e\n    \u003c/tr\u003e\n    \u003ctr\u003e\n      \u003cth\u003e478\u003c/th\u003e\n      \u003ctd\u003e1\u003c/td\u003e\n      \u003ctd\u003e22\u003c/td\u003e\n      \u003ctd\u003e5\u003c/td\u003e\n      \u003ctd\u003eSEA\u003c/td\u003e\n      \u003ctd\u003eJFK\u003c/td\u003e\n      \u003ctd\u003e2305\u003c/td\u003e\n      \u003ctd\u003eNaN\u003c/td\u003e\n    \u003c/tr\u003e\n  \u003c/tbody\u003e\n\u003c/table\u003e\n\u003c/div\u003e"
          },
          "metadata": {},
          "output_type": "execute_result",
          "execution_count": 9
        }
      ],
      "source": "df[df.isnull().values.any(axis\u003d1)].head()",
      "metadata": {
        "pycharm": {
          "metadata": false,
          "name": "#%%\n"
        }
      }
    },
    {
      "cell_type": "code",
      "execution_count": 10,
      "outputs": [
        {
          "data": {
            "text/plain": "     MONTH  DAY_OF_MONTH  DAY_OF_WEEK ORIGIN DEST  CRS_DEP_TIME  ARR_DEL15\n177      1             9            6    MSP  SEA           701        1.0\n178      1             9            6    DTW  JFK          1527        0.0\n179      1            10            7    MSP  DTW          1348        1.0\n180      1            10            7    DTW  MSP          1540        0.0\n181      1            10            7    JFK  ATL          1325        0.0\n182      1            10            7    JFK  ATL           610        0.0\n183      1            10            7    JFK  SEA          1615        0.0\n184      1            10            7    MSP  DTW           625        1.0",
            "text/html": "\u003cdiv\u003e\n\u003cstyle scoped\u003e\n    .dataframe tbody tr th:only-of-type {\n        vertical-align: middle;\n    }\n\n    .dataframe tbody tr th {\n        vertical-align: top;\n    }\n\n    .dataframe thead th {\n        text-align: right;\n    }\n\u003c/style\u003e\n\u003ctable border\u003d\"1\" class\u003d\"dataframe\"\u003e\n  \u003cthead\u003e\n    \u003ctr style\u003d\"text-align: right;\"\u003e\n      \u003cth\u003e\u003c/th\u003e\n      \u003cth\u003eMONTH\u003c/th\u003e\n      \u003cth\u003eDAY_OF_MONTH\u003c/th\u003e\n      \u003cth\u003eDAY_OF_WEEK\u003c/th\u003e\n      \u003cth\u003eORIGIN\u003c/th\u003e\n      \u003cth\u003eDEST\u003c/th\u003e\n      \u003cth\u003eCRS_DEP_TIME\u003c/th\u003e\n      \u003cth\u003eARR_DEL15\u003c/th\u003e\n    \u003c/tr\u003e\n  \u003c/thead\u003e\n  \u003ctbody\u003e\n    \u003ctr\u003e\n      \u003cth\u003e177\u003c/th\u003e\n      \u003ctd\u003e1\u003c/td\u003e\n      \u003ctd\u003e9\u003c/td\u003e\n      \u003ctd\u003e6\u003c/td\u003e\n      \u003ctd\u003eMSP\u003c/td\u003e\n      \u003ctd\u003eSEA\u003c/td\u003e\n      \u003ctd\u003e701\u003c/td\u003e\n      \u003ctd\u003e1.0\u003c/td\u003e\n    \u003c/tr\u003e\n    \u003ctr\u003e\n      \u003cth\u003e178\u003c/th\u003e\n      \u003ctd\u003e1\u003c/td\u003e\n      \u003ctd\u003e9\u003c/td\u003e\n      \u003ctd\u003e6\u003c/td\u003e\n      \u003ctd\u003eDTW\u003c/td\u003e\n      \u003ctd\u003eJFK\u003c/td\u003e\n      \u003ctd\u003e1527\u003c/td\u003e\n      \u003ctd\u003e0.0\u003c/td\u003e\n    \u003c/tr\u003e\n    \u003ctr\u003e\n      \u003cth\u003e179\u003c/th\u003e\n      \u003ctd\u003e1\u003c/td\u003e\n      \u003ctd\u003e10\u003c/td\u003e\n      \u003ctd\u003e7\u003c/td\u003e\n      \u003ctd\u003eMSP\u003c/td\u003e\n      \u003ctd\u003eDTW\u003c/td\u003e\n      \u003ctd\u003e1348\u003c/td\u003e\n      \u003ctd\u003e1.0\u003c/td\u003e\n    \u003c/tr\u003e\n    \u003ctr\u003e\n      \u003cth\u003e180\u003c/th\u003e\n      \u003ctd\u003e1\u003c/td\u003e\n      \u003ctd\u003e10\u003c/td\u003e\n      \u003ctd\u003e7\u003c/td\u003e\n      \u003ctd\u003eDTW\u003c/td\u003e\n      \u003ctd\u003eMSP\u003c/td\u003e\n      \u003ctd\u003e1540\u003c/td\u003e\n      \u003ctd\u003e0.0\u003c/td\u003e\n    \u003c/tr\u003e\n    \u003ctr\u003e\n      \u003cth\u003e181\u003c/th\u003e\n      \u003ctd\u003e1\u003c/td\u003e\n      \u003ctd\u003e10\u003c/td\u003e\n      \u003ctd\u003e7\u003c/td\u003e\n      \u003ctd\u003eJFK\u003c/td\u003e\n      \u003ctd\u003eATL\u003c/td\u003e\n      \u003ctd\u003e1325\u003c/td\u003e\n      \u003ctd\u003e0.0\u003c/td\u003e\n    \u003c/tr\u003e\n    \u003ctr\u003e\n      \u003cth\u003e182\u003c/th\u003e\n      \u003ctd\u003e1\u003c/td\u003e\n      \u003ctd\u003e10\u003c/td\u003e\n      \u003ctd\u003e7\u003c/td\u003e\n      \u003ctd\u003eJFK\u003c/td\u003e\n      \u003ctd\u003eATL\u003c/td\u003e\n      \u003ctd\u003e610\u003c/td\u003e\n      \u003ctd\u003e0.0\u003c/td\u003e\n    \u003c/tr\u003e\n    \u003ctr\u003e\n      \u003cth\u003e183\u003c/th\u003e\n      \u003ctd\u003e1\u003c/td\u003e\n      \u003ctd\u003e10\u003c/td\u003e\n      \u003ctd\u003e7\u003c/td\u003e\n      \u003ctd\u003eJFK\u003c/td\u003e\n      \u003ctd\u003eSEA\u003c/td\u003e\n      \u003ctd\u003e1615\u003c/td\u003e\n      \u003ctd\u003e0.0\u003c/td\u003e\n    \u003c/tr\u003e\n    \u003ctr\u003e\n      \u003cth\u003e184\u003c/th\u003e\n      \u003ctd\u003e1\u003c/td\u003e\n      \u003ctd\u003e10\u003c/td\u003e\n      \u003ctd\u003e7\u003c/td\u003e\n      \u003ctd\u003eMSP\u003c/td\u003e\n      \u003ctd\u003eDTW\u003c/td\u003e\n      \u003ctd\u003e625\u003c/td\u003e\n      \u003ctd\u003e1.0\u003c/td\u003e\n    \u003c/tr\u003e\n  \u003c/tbody\u003e\n\u003c/table\u003e\n\u003c/div\u003e"
          },
          "metadata": {},
          "output_type": "execute_result",
          "execution_count": 10
        }
      ],
      "source": "df \u003d df.fillna({\u0027ARR_DEL15\u0027: 1})\ndf.iloc[177:185]",
      "metadata": {
        "pycharm": {
          "metadata": false,
          "name": "#%%\n"
        }
      }
    },
    {
      "cell_type": "code",
      "execution_count": 11,
      "outputs": [],
      "source": "import math",
      "metadata": {
        "pycharm": {
          "metadata": false,
          "name": "#%%\n"
        }
      }
    },
    {
      "cell_type": "code",
      "execution_count": 12,
      "outputs": [
        {
          "data": {
            "text/plain": "   MONTH  DAY_OF_MONTH  DAY_OF_WEEK ORIGIN DEST  CRS_DEP_TIME  ARR_DEL15\n0      1             1            5    ATL  SEA          1905        0.0\n1      1             1            5    DTW  MSP          1345        0.0\n2      1             1            5    ATL  SEA           940        0.0\n3      1             1            5    SEA  MSP           819        0.0\n4      1             1            5    SEA  DTW          2300        0.0",
            "text/html": "\u003cdiv\u003e\n\u003cstyle scoped\u003e\n    .dataframe tbody tr th:only-of-type {\n        vertical-align: middle;\n    }\n\n    .dataframe tbody tr th {\n        vertical-align: top;\n    }\n\n    .dataframe thead th {\n        text-align: right;\n    }\n\u003c/style\u003e\n\u003ctable border\u003d\"1\" class\u003d\"dataframe\"\u003e\n  \u003cthead\u003e\n    \u003ctr style\u003d\"text-align: right;\"\u003e\n      \u003cth\u003e\u003c/th\u003e\n      \u003cth\u003eMONTH\u003c/th\u003e\n      \u003cth\u003eDAY_OF_MONTH\u003c/th\u003e\n      \u003cth\u003eDAY_OF_WEEK\u003c/th\u003e\n      \u003cth\u003eORIGIN\u003c/th\u003e\n      \u003cth\u003eDEST\u003c/th\u003e\n      \u003cth\u003eCRS_DEP_TIME\u003c/th\u003e\n      \u003cth\u003eARR_DEL15\u003c/th\u003e\n    \u003c/tr\u003e\n  \u003c/thead\u003e\n  \u003ctbody\u003e\n    \u003ctr\u003e\n      \u003cth\u003e0\u003c/th\u003e\n      \u003ctd\u003e1\u003c/td\u003e\n      \u003ctd\u003e1\u003c/td\u003e\n      \u003ctd\u003e5\u003c/td\u003e\n      \u003ctd\u003eATL\u003c/td\u003e\n      \u003ctd\u003eSEA\u003c/td\u003e\n      \u003ctd\u003e1905\u003c/td\u003e\n      \u003ctd\u003e0.0\u003c/td\u003e\n    \u003c/tr\u003e\n    \u003ctr\u003e\n      \u003cth\u003e1\u003c/th\u003e\n      \u003ctd\u003e1\u003c/td\u003e\n      \u003ctd\u003e1\u003c/td\u003e\n      \u003ctd\u003e5\u003c/td\u003e\n      \u003ctd\u003eDTW\u003c/td\u003e\n      \u003ctd\u003eMSP\u003c/td\u003e\n      \u003ctd\u003e1345\u003c/td\u003e\n      \u003ctd\u003e0.0\u003c/td\u003e\n    \u003c/tr\u003e\n    \u003ctr\u003e\n      \u003cth\u003e2\u003c/th\u003e\n      \u003ctd\u003e1\u003c/td\u003e\n      \u003ctd\u003e1\u003c/td\u003e\n      \u003ctd\u003e5\u003c/td\u003e\n      \u003ctd\u003eATL\u003c/td\u003e\n      \u003ctd\u003eSEA\u003c/td\u003e\n      \u003ctd\u003e940\u003c/td\u003e\n      \u003ctd\u003e0.0\u003c/td\u003e\n    \u003c/tr\u003e\n    \u003ctr\u003e\n      \u003cth\u003e3\u003c/th\u003e\n      \u003ctd\u003e1\u003c/td\u003e\n      \u003ctd\u003e1\u003c/td\u003e\n      \u003ctd\u003e5\u003c/td\u003e\n      \u003ctd\u003eSEA\u003c/td\u003e\n      \u003ctd\u003eMSP\u003c/td\u003e\n      \u003ctd\u003e819\u003c/td\u003e\n      \u003ctd\u003e0.0\u003c/td\u003e\n    \u003c/tr\u003e\n    \u003ctr\u003e\n      \u003cth\u003e4\u003c/th\u003e\n      \u003ctd\u003e1\u003c/td\u003e\n      \u003ctd\u003e1\u003c/td\u003e\n      \u003ctd\u003e5\u003c/td\u003e\n      \u003ctd\u003eSEA\u003c/td\u003e\n      \u003ctd\u003eDTW\u003c/td\u003e\n      \u003ctd\u003e2300\u003c/td\u003e\n      \u003ctd\u003e0.0\u003c/td\u003e\n    \u003c/tr\u003e\n  \u003c/tbody\u003e\n\u003c/table\u003e\n\u003c/div\u003e"
          },
          "metadata": {},
          "output_type": "execute_result",
          "execution_count": 12
        }
      ],
      "source": "df.head()\n",
      "metadata": {
        "pycharm": {
          "metadata": false,
          "name": "#%%\n"
        }
      }
    },
    {
      "cell_type": "code",
      "execution_count": 13,
      "outputs": [
        {
          "data": {
            "text/plain": "   MONTH  DAY_OF_MONTH  DAY_OF_WEEK ORIGIN DEST  CRS_DEP_TIME  ARR_DEL15\n0      1             1            5    ATL  SEA            19        0.0\n1      1             1            5    DTW  MSP            13        0.0\n2      1             1            5    ATL  SEA             9        0.0\n3      1             1            5    SEA  MSP             8        0.0\n4      1             1            5    SEA  DTW            23        0.0",
            "text/html": "\u003cdiv\u003e\n\u003cstyle scoped\u003e\n    .dataframe tbody tr th:only-of-type {\n        vertical-align: middle;\n    }\n\n    .dataframe tbody tr th {\n        vertical-align: top;\n    }\n\n    .dataframe thead th {\n        text-align: right;\n    }\n\u003c/style\u003e\n\u003ctable border\u003d\"1\" class\u003d\"dataframe\"\u003e\n  \u003cthead\u003e\n    \u003ctr style\u003d\"text-align: right;\"\u003e\n      \u003cth\u003e\u003c/th\u003e\n      \u003cth\u003eMONTH\u003c/th\u003e\n      \u003cth\u003eDAY_OF_MONTH\u003c/th\u003e\n      \u003cth\u003eDAY_OF_WEEK\u003c/th\u003e\n      \u003cth\u003eORIGIN\u003c/th\u003e\n      \u003cth\u003eDEST\u003c/th\u003e\n      \u003cth\u003eCRS_DEP_TIME\u003c/th\u003e\n      \u003cth\u003eARR_DEL15\u003c/th\u003e\n    \u003c/tr\u003e\n  \u003c/thead\u003e\n  \u003ctbody\u003e\n    \u003ctr\u003e\n      \u003cth\u003e0\u003c/th\u003e\n      \u003ctd\u003e1\u003c/td\u003e\n      \u003ctd\u003e1\u003c/td\u003e\n      \u003ctd\u003e5\u003c/td\u003e\n      \u003ctd\u003eATL\u003c/td\u003e\n      \u003ctd\u003eSEA\u003c/td\u003e\n      \u003ctd\u003e19\u003c/td\u003e\n      \u003ctd\u003e0.0\u003c/td\u003e\n    \u003c/tr\u003e\n    \u003ctr\u003e\n      \u003cth\u003e1\u003c/th\u003e\n      \u003ctd\u003e1\u003c/td\u003e\n      \u003ctd\u003e1\u003c/td\u003e\n      \u003ctd\u003e5\u003c/td\u003e\n      \u003ctd\u003eDTW\u003c/td\u003e\n      \u003ctd\u003eMSP\u003c/td\u003e\n      \u003ctd\u003e13\u003c/td\u003e\n      \u003ctd\u003e0.0\u003c/td\u003e\n    \u003c/tr\u003e\n    \u003ctr\u003e\n      \u003cth\u003e2\u003c/th\u003e\n      \u003ctd\u003e1\u003c/td\u003e\n      \u003ctd\u003e1\u003c/td\u003e\n      \u003ctd\u003e5\u003c/td\u003e\n      \u003ctd\u003eATL\u003c/td\u003e\n      \u003ctd\u003eSEA\u003c/td\u003e\n      \u003ctd\u003e9\u003c/td\u003e\n      \u003ctd\u003e0.0\u003c/td\u003e\n    \u003c/tr\u003e\n    \u003ctr\u003e\n      \u003cth\u003e3\u003c/th\u003e\n      \u003ctd\u003e1\u003c/td\u003e\n      \u003ctd\u003e1\u003c/td\u003e\n      \u003ctd\u003e5\u003c/td\u003e\n      \u003ctd\u003eSEA\u003c/td\u003e\n      \u003ctd\u003eMSP\u003c/td\u003e\n      \u003ctd\u003e8\u003c/td\u003e\n      \u003ctd\u003e0.0\u003c/td\u003e\n    \u003c/tr\u003e\n    \u003ctr\u003e\n      \u003cth\u003e4\u003c/th\u003e\n      \u003ctd\u003e1\u003c/td\u003e\n      \u003ctd\u003e1\u003c/td\u003e\n      \u003ctd\u003e5\u003c/td\u003e\n      \u003ctd\u003eSEA\u003c/td\u003e\n      \u003ctd\u003eDTW\u003c/td\u003e\n      \u003ctd\u003e23\u003c/td\u003e\n      \u003ctd\u003e0.0\u003c/td\u003e\n    \u003c/tr\u003e\n  \u003c/tbody\u003e\n\u003c/table\u003e\n\u003c/div\u003e"
          },
          "metadata": {},
          "output_type": "execute_result",
          "execution_count": 13
        }
      ],
      "source": "for index, row in df.iterrows():\n    df.loc[index, \u0027CRS_DEP_TIME\u0027] \u003d math.floor(row[\u0027CRS_DEP_TIME\u0027] / 100)\ndf.head()",
      "metadata": {
        "pycharm": {
          "metadata": false,
          "name": "#%%\n"
        }
      }
    },
    {
      "cell_type": "code",
      "execution_count": 14,
      "outputs": [
        {
          "data": {
            "text/plain": "   MONTH  DAY_OF_MONTH  DAY_OF_WEEK  CRS_DEP_TIME  ARR_DEL15  ORIGIN_ATL  \\\n0      1             1            5            19        0.0           1   \n1      1             1            5            13        0.0           0   \n2      1             1            5             9        0.0           1   \n3      1             1            5             8        0.0           0   \n4      1             1            5            23        0.0           0   \n\n   ORIGIN_DTW  ORIGIN_JFK  ORIGIN_MSP  ORIGIN_SEA  DEST_ATL  DEST_DTW  \\\n0           0           0           0           0         0         0   \n1           1           0           0           0         0         0   \n2           0           0           0           0         0         0   \n3           0           0           0           1         0         0   \n4           0           0           0           1         0         1   \n\n   DEST_JFK  DEST_MSP  DEST_SEA  \n0         0         0         1  \n1         0         1         0  \n2         0         0         1  \n3         0         1         0  \n4         0         0         0  ",
            "text/html": "\u003cdiv\u003e\n\u003cstyle scoped\u003e\n    .dataframe tbody tr th:only-of-type {\n        vertical-align: middle;\n    }\n\n    .dataframe tbody tr th {\n        vertical-align: top;\n    }\n\n    .dataframe thead th {\n        text-align: right;\n    }\n\u003c/style\u003e\n\u003ctable border\u003d\"1\" class\u003d\"dataframe\"\u003e\n  \u003cthead\u003e\n    \u003ctr style\u003d\"text-align: right;\"\u003e\n      \u003cth\u003e\u003c/th\u003e\n      \u003cth\u003eMONTH\u003c/th\u003e\n      \u003cth\u003eDAY_OF_MONTH\u003c/th\u003e\n      \u003cth\u003eDAY_OF_WEEK\u003c/th\u003e\n      \u003cth\u003eCRS_DEP_TIME\u003c/th\u003e\n      \u003cth\u003eARR_DEL15\u003c/th\u003e\n      \u003cth\u003eORIGIN_ATL\u003c/th\u003e\n      \u003cth\u003eORIGIN_DTW\u003c/th\u003e\n      \u003cth\u003eORIGIN_JFK\u003c/th\u003e\n      \u003cth\u003eORIGIN_MSP\u003c/th\u003e\n      \u003cth\u003eORIGIN_SEA\u003c/th\u003e\n      \u003cth\u003eDEST_ATL\u003c/th\u003e\n      \u003cth\u003eDEST_DTW\u003c/th\u003e\n      \u003cth\u003eDEST_JFK\u003c/th\u003e\n      \u003cth\u003eDEST_MSP\u003c/th\u003e\n      \u003cth\u003eDEST_SEA\u003c/th\u003e\n    \u003c/tr\u003e\n  \u003c/thead\u003e\n  \u003ctbody\u003e\n    \u003ctr\u003e\n      \u003cth\u003e0\u003c/th\u003e\n      \u003ctd\u003e1\u003c/td\u003e\n      \u003ctd\u003e1\u003c/td\u003e\n      \u003ctd\u003e5\u003c/td\u003e\n      \u003ctd\u003e19\u003c/td\u003e\n      \u003ctd\u003e0.0\u003c/td\u003e\n      \u003ctd\u003e1\u003c/td\u003e\n      \u003ctd\u003e0\u003c/td\u003e\n      \u003ctd\u003e0\u003c/td\u003e\n      \u003ctd\u003e0\u003c/td\u003e\n      \u003ctd\u003e0\u003c/td\u003e\n      \u003ctd\u003e0\u003c/td\u003e\n      \u003ctd\u003e0\u003c/td\u003e\n      \u003ctd\u003e0\u003c/td\u003e\n      \u003ctd\u003e0\u003c/td\u003e\n      \u003ctd\u003e1\u003c/td\u003e\n    \u003c/tr\u003e\n    \u003ctr\u003e\n      \u003cth\u003e1\u003c/th\u003e\n      \u003ctd\u003e1\u003c/td\u003e\n      \u003ctd\u003e1\u003c/td\u003e\n      \u003ctd\u003e5\u003c/td\u003e\n      \u003ctd\u003e13\u003c/td\u003e\n      \u003ctd\u003e0.0\u003c/td\u003e\n      \u003ctd\u003e0\u003c/td\u003e\n      \u003ctd\u003e1\u003c/td\u003e\n      \u003ctd\u003e0\u003c/td\u003e\n      \u003ctd\u003e0\u003c/td\u003e\n      \u003ctd\u003e0\u003c/td\u003e\n      \u003ctd\u003e0\u003c/td\u003e\n      \u003ctd\u003e0\u003c/td\u003e\n      \u003ctd\u003e0\u003c/td\u003e\n      \u003ctd\u003e1\u003c/td\u003e\n      \u003ctd\u003e0\u003c/td\u003e\n    \u003c/tr\u003e\n    \u003ctr\u003e\n      \u003cth\u003e2\u003c/th\u003e\n      \u003ctd\u003e1\u003c/td\u003e\n      \u003ctd\u003e1\u003c/td\u003e\n      \u003ctd\u003e5\u003c/td\u003e\n      \u003ctd\u003e9\u003c/td\u003e\n      \u003ctd\u003e0.0\u003c/td\u003e\n      \u003ctd\u003e1\u003c/td\u003e\n      \u003ctd\u003e0\u003c/td\u003e\n      \u003ctd\u003e0\u003c/td\u003e\n      \u003ctd\u003e0\u003c/td\u003e\n      \u003ctd\u003e0\u003c/td\u003e\n      \u003ctd\u003e0\u003c/td\u003e\n      \u003ctd\u003e0\u003c/td\u003e\n      \u003ctd\u003e0\u003c/td\u003e\n      \u003ctd\u003e0\u003c/td\u003e\n      \u003ctd\u003e1\u003c/td\u003e\n    \u003c/tr\u003e\n    \u003ctr\u003e\n      \u003cth\u003e3\u003c/th\u003e\n      \u003ctd\u003e1\u003c/td\u003e\n      \u003ctd\u003e1\u003c/td\u003e\n      \u003ctd\u003e5\u003c/td\u003e\n      \u003ctd\u003e8\u003c/td\u003e\n      \u003ctd\u003e0.0\u003c/td\u003e\n      \u003ctd\u003e0\u003c/td\u003e\n      \u003ctd\u003e0\u003c/td\u003e\n      \u003ctd\u003e0\u003c/td\u003e\n      \u003ctd\u003e0\u003c/td\u003e\n      \u003ctd\u003e1\u003c/td\u003e\n      \u003ctd\u003e0\u003c/td\u003e\n      \u003ctd\u003e0\u003c/td\u003e\n      \u003ctd\u003e0\u003c/td\u003e\n      \u003ctd\u003e1\u003c/td\u003e\n      \u003ctd\u003e0\u003c/td\u003e\n    \u003c/tr\u003e\n    \u003ctr\u003e\n      \u003cth\u003e4\u003c/th\u003e\n      \u003ctd\u003e1\u003c/td\u003e\n      \u003ctd\u003e1\u003c/td\u003e\n      \u003ctd\u003e5\u003c/td\u003e\n      \u003ctd\u003e23\u003c/td\u003e\n      \u003ctd\u003e0.0\u003c/td\u003e\n      \u003ctd\u003e0\u003c/td\u003e\n      \u003ctd\u003e0\u003c/td\u003e\n      \u003ctd\u003e0\u003c/td\u003e\n      \u003ctd\u003e0\u003c/td\u003e\n      \u003ctd\u003e1\u003c/td\u003e\n      \u003ctd\u003e0\u003c/td\u003e\n      \u003ctd\u003e1\u003c/td\u003e\n      \u003ctd\u003e0\u003c/td\u003e\n      \u003ctd\u003e0\u003c/td\u003e\n      \u003ctd\u003e0\u003c/td\u003e\n    \u003c/tr\u003e\n  \u003c/tbody\u003e\n\u003c/table\u003e\n\u003c/div\u003e"
          },
          "metadata": {},
          "output_type": "execute_result",
          "execution_count": 14
        }
      ],
      "source": "df \u003d pd.get_dummies(df, columns\u003d[\u0027ORIGIN\u0027, \u0027DEST\u0027])\ndf.head()",
      "metadata": {
        "pycharm": {
          "metadata": false,
          "name": "#%%\n"
        }
      }
    },
    {
      "cell_type": "code",
      "execution_count": 15,
      "outputs": [],
      "source": "from sklearn.model_selection import train_test_split",
      "metadata": {
        "pycharm": {
          "metadata": false,
          "name": "#%%\n"
        }
      }
    },
    {
      "cell_type": "code",
      "execution_count": 16,
      "outputs": [],
      "source": "train_x, test_x, train_y, test_y \u003d train_test_split(df.drop(\u0027ARR_DEL15\u0027, axis\u003d1), df[\u0027ARR_DEL15\u0027], test_size\u003d0.2, random_state\u003d42)\n",
      "metadata": {
        "pycharm": {
          "metadata": false,
          "name": "#%%\n"
        }
      }
    },
    {
      "cell_type": "code",
      "execution_count": 17,
      "outputs": [
        {
          "data": {
            "text/plain": "(8984, 14)"
          },
          "metadata": {},
          "output_type": "execute_result",
          "execution_count": 17
        }
      ],
      "source": "train_x.shape",
      "metadata": {
        "pycharm": {
          "metadata": false,
          "name": "#%%\n"
        }
      }
    },
    {
      "cell_type": "code",
      "execution_count": 18,
      "outputs": [
        {
          "data": {
            "text/plain": "(2247, 14)"
          },
          "metadata": {},
          "output_type": "execute_result",
          "execution_count": 18
        }
      ],
      "source": "test_x.shape\n",
      "metadata": {
        "pycharm": {
          "metadata": false,
          "name": "#%%\n"
        }
      }
    },
    {
      "cell_type": "code",
      "execution_count": 19,
      "outputs": [
        {
          "data": {
            "text/plain": "(8984,)"
          },
          "metadata": {},
          "output_type": "execute_result",
          "execution_count": 19
        }
      ],
      "source": "train_y.shape",
      "metadata": {
        "pycharm": {
          "metadata": false,
          "name": "#%%\n"
        }
      }
    },
    {
      "cell_type": "code",
      "execution_count": 23,
      "outputs": [],
      "source": "from sklearn.ensemble import RandomForestClassifier",
      "metadata": {
        "pycharm": {
          "metadata": false,
          "name": "#%%\n"
        }
      }
    },
    {
      "cell_type": "code",
      "execution_count": 24,
      "outputs": [
        {
          "name": "stderr",
          "text": [
            "C:\\Users\\Gary\\Anaconda3\\envs\\Jupyter-Playground\\lib\\site-packages\\sklearn\\ensemble\\forest.py:246: FutureWarning: The default value of n_estimators will change from 10 in version 0.20 to 100 in 0.22.\n  \"10 in version 0.20 to 100 in 0.22.\", FutureWarning)\n"
          ],
          "output_type": "stream"
        },
        {
          "data": {
            "text/plain": "RandomForestClassifier(bootstrap\u003dTrue, class_weight\u003dNone, criterion\u003d\u0027gini\u0027,\n            max_depth\u003dNone, max_features\u003d\u0027auto\u0027, max_leaf_nodes\u003dNone,\n            min_impurity_decrease\u003d0.0, min_impurity_split\u003dNone,\n            min_samples_leaf\u003d1, min_samples_split\u003d2,\n            min_weight_fraction_leaf\u003d0.0, n_estimators\u003d10, n_jobs\u003dNone,\n            oob_score\u003dFalse, random_state\u003d13, verbose\u003d0, warm_start\u003dFalse)"
          },
          "metadata": {},
          "output_type": "execute_result",
          "execution_count": 24
        }
      ],
      "source": "model \u003d RandomForestClassifier(random_state\u003d13)\nmodel.fit(train_x, train_y)\n",
      "metadata": {
        "pycharm": {
          "metadata": false,
          "name": "#%%\n"
        }
      }
    },
    {
      "cell_type": "code",
      "execution_count": 25,
      "outputs": [
        {
          "data": {
            "text/plain": "0.8602581219403649"
          },
          "metadata": {},
          "output_type": "execute_result",
          "execution_count": 25
        }
      ],
      "source": "predicted \u003d model.predict(test_x)\nmodel.score(test_x, test_y)",
      "metadata": {
        "pycharm": {
          "metadata": false,
          "name": "#%%\n"
        }
      }
    },
    {
      "cell_type": "code",
      "execution_count": 26,
      "outputs": [],
      "source": "from sklearn.metrics import roc_auc_score",
      "metadata": {
        "pycharm": {
          "metadata": false,
          "name": "#%%\n"
        }
      }
    },
    {
      "cell_type": "code",
      "execution_count": 27,
      "outputs": [],
      "source": "probabilities \u003d model.predict_proba(test_x)",
      "metadata": {
        "pycharm": {
          "metadata": false,
          "name": "#%%\n"
        }
      }
    },
    {
      "cell_type": "code",
      "execution_count": 28,
      "outputs": [
        {
          "data": {
            "text/plain": "0.6743824904998539"
          },
          "metadata": {},
          "output_type": "execute_result",
          "execution_count": 28
        }
      ],
      "source": "roc_auc_score(test_y, probabilities[:,1])",
      "metadata": {
        "pycharm": {
          "metadata": false,
          "name": "#%%\n"
        }
      }
    },
    {
      "cell_type": "code",
      "execution_count": 29,
      "outputs": [],
      "source": "from sklearn.metrics import confusion_matrix",
      "metadata": {
        "pycharm": {
          "metadata": false,
          "name": "#%%\n"
        }
      }
    },
    {
      "cell_type": "code",
      "execution_count": 30,
      "outputs": [
        {
          "data": {
            "text/plain": "array([[1882,   54],\n       [ 260,   51]], dtype\u003dint64)"
          },
          "metadata": {},
          "output_type": "execute_result",
          "execution_count": 30
        }
      ],
      "source": "confusion_matrix(test_y, predicted)",
      "metadata": {
        "pycharm": {
          "metadata": false,
          "name": "#%%\n"
        }
      }
    },
    {
      "cell_type": "code",
      "execution_count": 31,
      "outputs": [],
      "source": "from sklearn.metrics import precision_score",
      "metadata": {
        "pycharm": {
          "metadata": false,
          "name": "#%%\n"
        }
      }
    },
    {
      "cell_type": "code",
      "execution_count": 32,
      "outputs": [
        {
          "data": {
            "text/plain": "0.9972375690607734"
          },
          "metadata": {},
          "output_type": "execute_result",
          "execution_count": 32
        }
      ],
      "source": "train_predictions \u003d model.predict(train_x)\nprecision_score(train_y, train_predictions)",
      "metadata": {
        "pycharm": {
          "metadata": false,
          "name": "#%%\n"
        }
      }
    },
    {
      "cell_type": "code",
      "execution_count": 33,
      "outputs": [],
      "source": "from sklearn.metrics import recall_score",
      "metadata": {
        "pycharm": {
          "metadata": false,
          "name": "#%%\n"
        }
      }
    },
    {
      "cell_type": "code",
      "execution_count": 34,
      "outputs": [
        {
          "data": {
            "text/plain": "0.8650159744408946"
          },
          "metadata": {},
          "output_type": "execute_result",
          "execution_count": 34
        }
      ],
      "source": "recall_score(train_y, train_predictions)",
      "metadata": {
        "pycharm": {
          "metadata": false,
          "name": "#%%\n"
        }
      }
    },
    {
      "cell_type": "code",
      "execution_count": 35,
      "outputs": [],
      "source": "import matplotlib.pyplot as plt\nimport seaborn as sns",
      "metadata": {
        "pycharm": {
          "metadata": false,
          "name": "#%%\n"
        }
      }
    },
    {
      "cell_type": "code",
      "execution_count": 36,
      "outputs": [],
      "source": "%matplotlib inline",
      "metadata": {
        "pycharm": {
          "metadata": false,
          "name": "#%%\n"
        }
      }
    },
    {
      "cell_type": "code",
      "execution_count": 37,
      "outputs": [],
      "source": "sns.set()",
      "metadata": {
        "pycharm": {
          "metadata": false,
          "name": "#%%\n"
        }
      }
    },
    {
      "cell_type": "code",
      "execution_count": 38,
      "outputs": [],
      "source": "from sklearn.metrics import roc_curve",
      "metadata": {
        "pycharm": {
          "metadata": false,
          "name": "#%%\n"
        }
      }
    },
    {
      "cell_type": "code",
      "execution_count": 39,
      "outputs": [
        {
          "data": {
            "text/plain": "Text(0, 0.5, \u0027True Positive Rate (tpr)\u0027)"
          },
          "metadata": {},
          "output_type": "execute_result",
          "execution_count": 39
        },
        {
          "data": {
            "text/plain": "\u003cFigure size 432x288 with 1 Axes\u003e",
            "image/png": "[encoded data removed]"
          },
          "metadata": {},
          "output_type": "display_data"
        }
      ],
      "source": "fpr, tpr, _ \u003d roc_curve(test_y, probabilities[:,1])\nplt.plot(fpr, tpr)\nplt.plot([0, 1], [0, 1], color\u003d\u0027grey\u0027, lw\u003d1, linestyle\u003d\u0027--\u0027)\nplt.xlabel(\u0027False Positive Rate (fpr)\u0027)\nplt.ylabel(\u0027True Positive Rate (tpr)\u0027)",
      "metadata": {
        "pycharm": {
          "metadata": false,
          "name": "#%%\n"
        }
      }
    },
    {
      "cell_type": "code",
      "execution_count": 40,
      "outputs": [],
      "source": "def predict_delay(departure_date_time, origin, destination):\n    from datetime import datetime\n\n    try:\n        departure_date_time_parsed \u003d datetime.strptime(departure_date_time, \u0027%d/%m/%Y %H:%M:%S\u0027)\n    except ValueError as e:\n        return \u0027Error parsing date/time - {}\u0027.format(e)\n\n    month \u003d departure_date_time_parsed.month\n    day \u003d departure_date_time_parsed.day\n    day_of_week \u003d departure_date_time_parsed.isoweekday()\n    hour \u003d departure_date_time_parsed.hour\n\n    origin \u003d origin.upper()\n    destination \u003d destination.upper()\n\n    input \u003d [{\u0027MONTH\u0027: month,\n              \u0027DAY\u0027: day,\n              \u0027DAY_OF_WEEK\u0027: day_of_week,\n              \u0027CRS_DEP_TIME\u0027: hour,\n              \u0027ORIGIN_ATL\u0027: 1 if origin \u003d\u003d \u0027ATL\u0027 else 0,\n              \u0027ORIGIN_DTW\u0027: 1 if origin \u003d\u003d \u0027DTW\u0027 else 0,\n              \u0027ORIGIN_JFK\u0027: 1 if origin \u003d\u003d \u0027JFK\u0027 else 0,\n              \u0027ORIGIN_MSP\u0027: 1 if origin \u003d\u003d \u0027MSP\u0027 else 0,\n              \u0027ORIGIN_SEA\u0027: 1 if origin \u003d\u003d \u0027SEA\u0027 else 0,\n              \u0027DEST_ATL\u0027: 1 if destination \u003d\u003d \u0027ATL\u0027 else 0,\n              \u0027DEST_DTW\u0027: 1 if destination \u003d\u003d \u0027DTW\u0027 else 0,\n              \u0027DEST_JFK\u0027: 1 if destination \u003d\u003d \u0027JFK\u0027 else 0,\n              \u0027DEST_MSP\u0027: 1 if destination \u003d\u003d \u0027MSP\u0027 else 0,\n              \u0027DEST_SEA\u0027: 1 if destination \u003d\u003d \u0027SEA\u0027 else 0 }]\n\n    return model.predict_proba(pd.DataFrame(input))[0][0]",
      "metadata": {
        "pycharm": {
          "metadata": false,
          "name": "#%%\n"
        }
      }
    },
    {
      "cell_type": "code",
      "execution_count": 41,
      "outputs": [
        {
          "data": {
            "text/plain": "0.6"
          },
          "metadata": {},
          "output_type": "execute_result",
          "execution_count": 41
        }
      ],
      "source": "predict_delay(\u00271/10/2018 21:45:00\u0027, \u0027JFK\u0027, \u0027ATL\u0027)",
      "metadata": {
        "pycharm": {
          "metadata": false,
          "name": "#%%\n"
        }
      }
    },
    {
      "cell_type": "code",
      "execution_count": 42,
      "outputs": [
        {
          "data": {
            "text/plain": "0.8"
          },
          "metadata": {},
          "output_type": "execute_result",
          "execution_count": 42
        }
      ],
      "source": "predict_delay(\u00272/10/2018 21:45:00\u0027, \u0027JFK\u0027, \u0027ATL\u0027)",
      "metadata": {
        "pycharm": {
          "metadata": false,
          "name": "#%%\n"
        }
      }
    },
    {
      "cell_type": "code",
      "execution_count": 43,
      "outputs": [
        {
          "data": {
            "text/plain": "0.9"
          },
          "metadata": {},
          "output_type": "execute_result",
          "execution_count": 43
        }
      ],
      "source": "predict_delay(\u00272/10/2018 10:00:00\u0027, \u0027JFK\u0027, \u0027ATL\u0027)",
      "metadata": {
        "pycharm": {
          "metadata": false,
          "name": "#%%\n"
        }
      }
    },
    {
      "cell_type": "code",
      "execution_count": 44,
      "outputs": [
        {
          "data": {
            "text/plain": "(0.0, 1.0)"
          },
          "metadata": {},
          "output_type": "execute_result",
          "execution_count": 44
        },
        {
          "data": {
            "text/plain": "\u003cFigure size 432x288 with 1 Axes\u003e",
            "image/png": "[encoded data removed]"
          },
          "metadata": {},
          "output_type": "display_data"
        }
      ],
      "source": "import numpy as np\n\nlabels \u003d (\u0027Oct 1\u0027, \u0027Oct 2\u0027, \u0027Oct 3\u0027, \u0027Oct 4\u0027, \u0027Oct 5\u0027, \u0027Oct 6\u0027, \u0027Oct 7\u0027)\nvalues \u003d (predict_delay(\u00271/10/2018 21:45:00\u0027, \u0027JFK\u0027, \u0027ATL\u0027),\n          predict_delay(\u00272/10/2018 21:45:00\u0027, \u0027JFK\u0027, \u0027ATL\u0027),\n          predict_delay(\u00273/10/2018 21:45:00\u0027, \u0027JFK\u0027, \u0027ATL\u0027),\n          predict_delay(\u00274/10/2018 21:45:00\u0027, \u0027JFK\u0027, \u0027ATL\u0027),\n          predict_delay(\u00275/10/2018 21:45:00\u0027, \u0027JFK\u0027, \u0027ATL\u0027),\n          predict_delay(\u00276/10/2018 21:45:00\u0027, \u0027JFK\u0027, \u0027ATL\u0027),\n          predict_delay(\u00277/10/2018 21:45:00\u0027, \u0027JFK\u0027, \u0027ATL\u0027))\nalabels \u003d np.arange(len(labels))\n\nplt.bar(alabels, values, align\u003d\u0027center\u0027, alpha\u003d0.5)\nplt.xticks(alabels, labels)\nplt.ylabel(\u0027Probability of On-Time Arrival\u0027)\nplt.ylim((0.0, 1.0))",
      "metadata": {
        "pycharm": {
          "metadata": false,
          "name": "#%%\n"
        }
      }
    },
    {
      "cell_type": "code",
      "execution_count": 45,
      "outputs": [
        {
          "data": {
            "text/plain": "(0.0, 1.0)"
          },
          "metadata": {},
          "output_type": "execute_result",
          "execution_count": 45
        },
        {
          "data": {
            "text/plain": "\u003cFigure size 432x288 with 1 Axes\u003e",
            "image/png": "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\u003d\u003d\n"
          },
          "metadata": {},
          "output_type": "display_data"
        }
      ],
      "source": "labels \u003d (\u0027Apr 10\u0027, \u0027Apr 11\u0027, \u0027Apr 12\u0027, \u0027Apr 13\u0027, \u0027Apr 14\u0027, \u0027Apr 15\u0027, \u0027Apr 16\u0027)\nvalues \u003d (predict_delay(\u002710/4/2018 13:00:00\u0027, \u0027JFK\u0027, \u0027MSP\u0027),\n          predict_delay(\u002711/4/2018 13:00:00\u0027, \u0027JFK\u0027, \u0027MSP\u0027),\n          predict_delay(\u002712/4/2018 13:00:00\u0027, \u0027JFK\u0027, \u0027MSP\u0027),\n          predict_delay(\u002713/4/2018 13:00:00\u0027, \u0027JFK\u0027, \u0027MSP\u0027),\n          predict_delay(\u002714/4/2018 13:00:00\u0027, \u0027JFK\u0027, \u0027MSP\u0027),\n          predict_delay(\u002715/4/2018 13:00:00\u0027, \u0027JFK\u0027, \u0027MSP\u0027),\n          predict_delay(\u002716/4/2018 13:00:00\u0027, \u0027JFK\u0027, \u0027MSP\u0027))\nalabels \u003d np.arange(len(labels))\n\nplt.bar(alabels, values, align\u003d\u0027center\u0027, alpha\u003d0.5)\nplt.xticks(alabels, labels)\nplt.ylabel(\u0027Probability of On-Time Arrival\u0027)\nplt.ylim((0.0, 1.0))",
      "metadata": {
        "pycharm": {
          "metadata": false,
          "name": "#%%\n"
        }
      }
    },
    {
      "cell_type": "code",
      "execution_count": 46,
      "outputs": [
        {
          "data": {
            "text/plain": "(0.0, 1.0)"
          },
          "metadata": {},
          "output_type": "execute_result",
          "execution_count": 46
        },
        {
          "data": {
            "text/plain": "\u003cFigure size 432x288 with 1 Axes\u003e",
            "image/png": "[encoded data removed]"
          },
          "metadata": {},
          "output_type": "display_data"
        }
      ],
      "source": "labels \u003d (\u00279:00 AM\u0027, \u0027Noon\u0027, \u00273:00 PM\u0027, \u00276:00 PM\u0027, \u00279:00 PM\u0027)\nvalues \u003d (predict_delay(\u002730/1/2018 9:00:00\u0027, \u0027SEA\u0027, \u0027ATL\u0027),\n          predict_delay(\u002730/1/2018 12:00:00\u0027, \u0027SEA\u0027, \u0027ATL\u0027),\n          predict_delay(\u002730/1/2018 15:00:00\u0027, \u0027SEA\u0027, \u0027ATL\u0027),\n          predict_delay(\u002730/1/2018 18:00:00\u0027, \u0027SEA\u0027, \u0027ATL\u0027),\n          predict_delay(\u002730/1/2018 21:00:00\u0027, \u0027SEA\u0027, \u0027ATL\u0027))\nalabels \u003d np.arange(len(labels))\n\nplt.bar(alabels, values, align\u003d\u0027center\u0027, alpha\u003d0.5)\nplt.xticks(alabels, labels)\nplt.ylabel(\u0027Probability of On-Time Arrival\u0027)\nplt.ylim((0.0, 1.0))",
      "metadata": {
        "pycharm": {
          "metadata": false,
          "name": "#%%\n"
        }
      }
    },
    {
      "cell_type": "code",
      "execution_count": null,
      "outputs": [],
      "source": "\n",
      "metadata": {
        "pycharm": {
          "metadata": false,
          "name": "#%%\n"
        }
      }
    }
  ],
  "metadata": {
    "language_info": {
      "codemirror_mode": {
        "name": "ipython",
        "version": 2
      },
      "file_extension": ".py",
      "mimetype": "text/x-python",
      "name": "python",
      "nbconvert_exporter": "python",
      "pygments_lexer": "ipython2",
      "version": "2.7.6"
    },
    "kernelspec": {
      "name": "python3",
      "language": "python",
      "display_name": "Python 3"
    },
    "stem_cell": {
      "cell_type": "raw",
      "source": "",
      "metadata": {
        "pycharm": {
          "metadata": false
        }
      }
    }
  },
  "nbformat": 4,
  "nbformat_minor": 0
}