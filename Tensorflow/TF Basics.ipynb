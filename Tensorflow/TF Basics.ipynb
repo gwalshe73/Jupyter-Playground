{
  "cells": [
    {
      "cell_type": "code",
      "execution_count": 1,
      "metadata": {
        "collapsed": true,
        "pycharm": {
          "is_executing": false
        }
      },
      "outputs": [],
      "source": "import tensorflow as tf"
    },
    {
      "cell_type": "code",
      "execution_count": 2,
      "outputs": [
        {
          "name": "stdout",
          "text": [
            "1.13.1\n"
          ],
          "output_type": "stream"
        }
      ],
      "source": "print(tf.__version__)",
      "metadata": {
        "pycharm": {
          "metadata": false,
          "name": "#%%\n",
          "is_executing": false
        }
      }
    },
    {
      "cell_type": "code",
      "execution_count": 3,
      "outputs": [],
      "source": "hello \u003d tf.constant(\u0027Hello\u0027)",
      "metadata": {
        "pycharm": {
          "metadata": false,
          "name": "#%%\n",
          "is_executing": false
        }
      }
    },
    {
      "cell_type": "code",
      "execution_count": 9,
      "outputs": [],
      "source": "world \u003d tf.constant(\u0027 world\u0027)\n",
      "metadata": {
        "pycharm": {
          "metadata": false,
          "name": "#%%\n",
          "is_executing": false
        }
      }
    },
    {
      "cell_type": "code",
      "execution_count": 10,
      "outputs": [
        {
          "data": {
            "text/plain": "tensorflow.python.framework.ops.Tensor"
          },
          "metadata": {},
          "output_type": "execute_result",
          "execution_count": 10
        }
      ],
      "source": "type(hello)",
      "metadata": {
        "pycharm": {
          "metadata": false,
          "name": "#%%\n",
          "is_executing": false
        }
      }
    },
    {
      "cell_type": "code",
      "execution_count": 11,
      "outputs": [
        {
          "name": "stdout",
          "text": [
            "Tensor(\"Const:0\", shape\u003d(), dtype\u003dstring)\n"
          ],
          "output_type": "stream"
        }
      ],
      "source": "print(hello)",
      "metadata": {
        "pycharm": {
          "metadata": false,
          "name": "#%%\n",
          "is_executing": false
        }
      }
    },
    {
      "cell_type": "code",
      "execution_count": 12,
      "outputs": [],
      "source": "with tf.Session() as sess:\n    result \u003d sess.run(hello + world)",
      "metadata": {
        "pycharm": {
          "metadata": false,
          "name": "#%%\n",
          "is_executing": false
        }
      }
    },
    {
      "cell_type": "code",
      "execution_count": 13,
      "outputs": [
        {
          "name": "stdout",
          "text": [
            "b\u0027Hello world\u0027\n"
          ],
          "output_type": "stream"
        }
      ],
      "source": "print(result)",
      "metadata": {
        "pycharm": {
          "metadata": false,
          "name": "#%%\n",
          "is_executing": false
        }
      }
    },
    {
      "cell_type": "code",
      "execution_count": 21,
      "outputs": [],
      "source": "a \u003d tf.constant(10)",
      "metadata": {
        "pycharm": {
          "metadata": false,
          "name": "#%%\n",
          "is_executing": false
        }
      }
    },
    {
      "cell_type": "code",
      "execution_count": 22,
      "outputs": [],
      "source": "b \u003d tf.constant(20)",
      "metadata": {
        "pycharm": {
          "metadata": false,
          "name": "#%%\n",
          "is_executing": false
        }
      }
    },
    {
      "cell_type": "code",
      "execution_count": 23,
      "outputs": [
        {
          "data": {
            "text/plain": "tensorflow.python.framework.ops.Tensor"
          },
          "metadata": {},
          "output_type": "execute_result",
          "execution_count": 23
        }
      ],
      "source": "type(a)",
      "metadata": {
        "pycharm": {
          "metadata": false,
          "name": "#%%\n",
          "is_executing": false
        }
      }
    },
    {
      "cell_type": "code",
      "execution_count": 24,
      "outputs": [
        {
          "data": {
            "text/plain": "\u003ctf.Tensor \u0027add_4:0\u0027 shape\u003d() dtype\u003dint32\u003e"
          },
          "metadata": {},
          "output_type": "execute_result",
          "execution_count": 24
        }
      ],
      "source": "a + b",
      "metadata": {
        "pycharm": {
          "metadata": false,
          "name": "#%%\n",
          "is_executing": false
        }
      }
    },
    {
      "cell_type": "code",
      "execution_count": 25,
      "outputs": [
        {
          "data": {
            "text/plain": "\u003ctf.Tensor \u0027add_5:0\u0027 shape\u003d() dtype\u003dint32\u003e"
          },
          "metadata": {},
          "output_type": "execute_result",
          "execution_count": 25
        }
      ],
      "source": "a+b",
      "metadata": {
        "pycharm": {
          "metadata": false,
          "name": "#%%\n",
          "is_executing": false
        }
      }
    },
    {
      "cell_type": "code",
      "execution_count": 28,
      "outputs": [],
      "source": "with tf.Session() as sess:\n    result \u003d sess.run(a + b)",
      "metadata": {
        "pycharm": {
          "metadata": false,
          "name": "#%%\n",
          "is_executing": false
        }
      }
    },
    {
      "cell_type": "code",
      "execution_count": 29,
      "outputs": [
        {
          "data": {
            "text/plain": "30"
          },
          "metadata": {},
          "output_type": "execute_result",
          "execution_count": 29
        }
      ],
      "source": "result",
      "metadata": {
        "pycharm": {
          "metadata": false,
          "name": "#%%\n",
          "is_executing": false
        }
      }
    },
    {
      "cell_type": "code",
      "execution_count": 30,
      "outputs": [],
      "source": "const \u003d tf.constant(10)",
      "metadata": {
        "pycharm": {
          "metadata": false,
          "name": "#%%\n",
          "is_executing": false
        }
      }
    },
    {
      "cell_type": "code",
      "execution_count": 31,
      "outputs": [],
      "source": "fill_mat \u003d tf.fill((4,4), 10)\n",
      "metadata": {
        "pycharm": {
          "metadata": false,
          "name": "#%%\n",
          "is_executing": false
        }
      }
    },
    {
      "cell_type": "code",
      "execution_count": 32,
      "outputs": [],
      "source": "myzeros \u003d tf.zeros((4,4))",
      "metadata": {
        "pycharm": {
          "metadata": false,
          "name": "#%%\n",
          "is_executing": false
        }
      }
    },
    {
      "cell_type": "code",
      "execution_count": 33,
      "outputs": [],
      "source": "myones \u003d tf.ones((4,4))",
      "metadata": {
        "pycharm": {
          "metadata": false,
          "name": "#%%\n",
          "is_executing": false
        }
      }
    },
    {
      "cell_type": "code",
      "execution_count": 34,
      "outputs": [],
      "source": "myrandn \u003d tf.random_normal((4,4), mean\u003d0, stddev\u003d1.0)",
      "metadata": {
        "pycharm": {
          "metadata": false,
          "name": "#%%\n",
          "is_executing": false
        }
      }
    },
    {
      "cell_type": "code",
      "execution_count": 35,
      "outputs": [],
      "source": "myrandu \u003d tf.random_uniform((4,4), minval\u003d0, maxval\u003d1)",
      "metadata": {
        "pycharm": {
          "metadata": false,
          "name": "#%%\n",
          "is_executing": false
        }
      }
    },
    {
      "cell_type": "code",
      "execution_count": 36,
      "outputs": [],
      "source": "my_ops \u003d [const, fill_mat, myzeros, myones, myrandn, myrandu]\n",
      "metadata": {
        "pycharm": {
          "metadata": false,
          "name": "#%%\n",
          "is_executing": false
        }
      }
    },
    {
      "cell_type": "code",
      "execution_count": 37,
      "outputs": [],
      "source": "sess \u003d tf.InteractiveSession()",
      "metadata": {
        "pycharm": {
          "metadata": false,
          "name": "#%%\n",
          "is_executing": false
        }
      }
    },
    {
      "cell_type": "code",
      "execution_count": 38,
      "outputs": [
        {
          "name": "stdout",
          "text": [
            "10\n**************************\n[[10 10 10 10]\n [10 10 10 10]\n [10 10 10 10]\n [10 10 10 10]]\n**************************\n[[0. 0. 0. 0.]\n [0. 0. 0. 0.]\n [0. 0. 0. 0.]\n [0. 0. 0. 0.]]\n**************************\n[[1. 1. 1. 1.]\n [1. 1. 1. 1.]\n [1. 1. 1. 1.]\n [1. 1. 1. 1.]]\n**************************\n[[-0.19971228 -0.40087885  0.5883126  -0.8875639 ]\n [-0.0999686  -0.18567176  0.7803916   0.37201673]\n [ 1.167813    2.1414332  -0.0937039  -0.00815881]\n [ 0.8946677  -0.7375603   1.1039431   1.6295826 ]]\n**************************\n[[2.0606101e-01 7.0050251e-01 1.2555838e-02 1.4694417e-01]\n [4.8160446e-01 8.2493293e-01 3.1649005e-01 4.9471855e-05]\n [9.7451508e-01 5.2438176e-01 5.3285599e-01 8.0139244e-01]\n [6.8647420e-01 4.6239269e-01 3.6113811e-01 1.5431786e-01]]\n**************************\n"
          ],
          "output_type": "stream"
        }
      ],
      "source": "for op in my_ops:\n    print(sess.run(op))\n    print(\u0027**************************\u0027)",
      "metadata": {
        "pycharm": {
          "metadata": false,
          "name": "#%%\n",
          "is_executing": false
        }
      }
    },
    {
      "cell_type": "code",
      "execution_count": 39,
      "outputs": [
        {
          "name": "stdout",
          "text": [
            "10\n**************************\n[[10 10 10 10]\n [10 10 10 10]\n [10 10 10 10]\n [10 10 10 10]]\n**************************\n[[0. 0. 0. 0.]\n [0. 0. 0. 0.]\n [0. 0. 0. 0.]\n [0. 0. 0. 0.]]\n**************************\n[[1. 1. 1. 1.]\n [1. 1. 1. 1.]\n [1. 1. 1. 1.]\n [1. 1. 1. 1.]]\n**************************\n[[-0.9540986  -0.464641   -1.0696759   1.2655923 ]\n [ 0.4282243  -0.35867858  0.2872892   0.8045911 ]\n [ 0.9508318   0.01519646 -1.7610064   0.40023014]\n [-0.7814606   0.57757336 -0.07193084  1.2677199 ]]\n**************************\n[[0.800797   0.03818941 0.22068632 0.75190675]\n [0.6777564  0.8652251  0.11377668 0.03287721]\n [0.6702224  0.7728969  0.7983041  0.47418702]\n [0.6803323  0.3710078  0.8055047  0.5257387 ]]\n**************************\n"
          ],
          "output_type": "stream"
        }
      ],
      "source": "for op in my_ops:\n    print(op.eval())\n    print(\u0027**************************\u0027)",
      "metadata": {
        "pycharm": {
          "metadata": false,
          "name": "#%%\n",
          "is_executing": false
        }
      }
    },
    {
      "cell_type": "code",
      "execution_count": 40,
      "outputs": [],
      "source": "a \u003d tf.constant([[1,2],\n                 [3,4]])",
      "metadata": {
        "pycharm": {
          "metadata": false,
          "name": "#%%\n",
          "is_executing": false
        }
      }
    },
    {
      "cell_type": "code",
      "execution_count": 41,
      "outputs": [],
      "source": "b \u003d tf.constant([[10], [100]])",
      "metadata": {
        "pycharm": {
          "metadata": false,
          "name": "#%%\n",
          "is_executing": false
        }
      }
    },
    {
      "cell_type": "code",
      "execution_count": 42,
      "outputs": [
        {
          "data": {
            "text/plain": "TensorShape([Dimension(2), Dimension(1)])"
          },
          "metadata": {},
          "output_type": "execute_result",
          "execution_count": 42
        }
      ],
      "source": "b.get_shape()",
      "metadata": {
        "pycharm": {
          "metadata": false,
          "name": "#%%\n",
          "is_executing": false
        }
      }
    },
    {
      "cell_type": "code",
      "execution_count": 43,
      "outputs": [],
      "source": "result \u003d tf.matmul(a,b)",
      "metadata": {
        "pycharm": {
          "metadata": false,
          "name": "#%%\n",
          "is_executing": false
        }
      }
    },
    {
      "cell_type": "code",
      "execution_count": 44,
      "outputs": [
        {
          "data": {
            "text/plain": "array([[210],\n       [430]])"
          },
          "metadata": {},
          "output_type": "execute_result",
          "execution_count": 44
        }
      ],
      "source": "sess.run(result)\n",
      "metadata": {
        "pycharm": {
          "metadata": false,
          "name": "#%%\n",
          "is_executing": false
        }
      }
    },
    {
      "cell_type": "code",
      "execution_count": 45,
      "outputs": [],
      "source": "\nn1 \u003d tf.constant(1)",
      "metadata": {
        "pycharm": {
          "metadata": false,
          "name": "#%%\n",
          "is_executing": false
        }
      }
    },
    {
      "cell_type": "code",
      "execution_count": 46,
      "outputs": [],
      "source": "n2 \u003d tf.constant(2)\n",
      "metadata": {
        "pycharm": {
          "metadata": false,
          "name": "#%%\n",
          "is_executing": false
        }
      }
    },
    {
      "cell_type": "code",
      "execution_count": 47,
      "outputs": [],
      "source": "n3 \u003d n1 + n2",
      "metadata": {
        "pycharm": {
          "metadata": false,
          "name": "#%%\n",
          "is_executing": false
        }
      }
    },
    {
      "cell_type": "code",
      "execution_count": 49,
      "outputs": [],
      "source": "with tf.Session() as sess:\n    result \u003d sess.run(n3)",
      "metadata": {
        "pycharm": {
          "metadata": false,
          "name": "#%%\n",
          "is_executing": false
        }
      }
    },
    {
      "cell_type": "code",
      "execution_count": 50,
      "outputs": [
        {
          "name": "stdout",
          "text": [
            "3\n"
          ],
          "output_type": "stream"
        }
      ],
      "source": "print(result)",
      "metadata": {
        "pycharm": {
          "metadata": false,
          "name": "#%%\n",
          "is_executing": false
        }
      }
    },
    {
      "cell_type": "code",
      "execution_count": 51,
      "outputs": [
        {
          "name": "stdout",
          "text": [
            "Tensor(\"add_7:0\", shape\u003d(), dtype\u003dint32)\n"
          ],
          "output_type": "stream"
        }
      ],
      "source": "print(n3)",
      "metadata": {
        "pycharm": {
          "metadata": false,
          "name": "#%%\n",
          "is_executing": false
        }
      }
    },
    {
      "cell_type": "code",
      "execution_count": 52,
      "outputs": [
        {
          "name": "stdout",
          "text": [
            "\u003ctensorflow.python.framework.ops.Graph object at 0x0000022ABDF8C7F0\u003e\n"
          ],
          "output_type": "stream"
        }
      ],
      "source": "print(tf.get_default_graph())",
      "metadata": {
        "pycharm": {
          "metadata": false,
          "name": "#%%\n",
          "is_executing": false
        }
      }
    },
    {
      "cell_type": "code",
      "execution_count": 53,
      "outputs": [],
      "source": "g \u003d tf.Graph()",
      "metadata": {
        "pycharm": {
          "metadata": false,
          "name": "#%%\n",
          "is_executing": false
        }
      }
    },
    {
      "cell_type": "code",
      "execution_count": 54,
      "outputs": [
        {
          "name": "stdout",
          "text": [
            "\u003ctensorflow.python.framework.ops.Graph object at 0x0000022AC9C00EB8\u003e\n"
          ],
          "output_type": "stream"
        }
      ],
      "source": "print(g)",
      "metadata": {
        "pycharm": {
          "metadata": false,
          "name": "#%%\n",
          "is_executing": false
        }
      }
    },
    {
      "cell_type": "code",
      "execution_count": 55,
      "outputs": [],
      "source": "graph1 \u003d tf.get_default_graph()",
      "metadata": {
        "pycharm": {
          "metadata": false,
          "name": "#%%\n",
          "is_executing": false
        }
      }
    },
    {
      "cell_type": "code",
      "execution_count": 56,
      "outputs": [],
      "source": "graph2 \u003d tf.Graph()\n",
      "metadata": {
        "pycharm": {
          "metadata": false,
          "name": "#%%\n",
          "is_executing": false
        }
      }
    },
    {
      "cell_type": "code",
      "execution_count": 57,
      "outputs": [
        {
          "name": "stdout",
          "text": [
            "\u003ctensorflow.python.framework.ops.Graph object at 0x0000022AC9C00B70\u003e\n"
          ],
          "output_type": "stream"
        }
      ],
      "source": "print(graph2)",
      "metadata": {
        "pycharm": {
          "metadata": false,
          "name": "#%%\n",
          "is_executing": false
        }
      }
    },
    {
      "cell_type": "code",
      "execution_count": 58,
      "outputs": [
        {
          "name": "stdout",
          "text": [
            "True\n"
          ],
          "output_type": "stream"
        }
      ],
      "source": "with graph2.as_default():\n    print(graph2 is tf.get_default_graph())",
      "metadata": {
        "pycharm": {
          "metadata": false,
          "name": "#%%\n",
          "is_executing": false
        }
      }
    },
    {
      "cell_type": "code",
      "execution_count": 59,
      "outputs": [
        {
          "name": "stdout",
          "text": [
            "False\n"
          ],
          "output_type": "stream"
        }
      ],
      "source": "print(graph2 is tf.get_default_graph())",
      "metadata": {
        "pycharm": {
          "metadata": false,
          "name": "#%%\n",
          "is_executing": false
        }
      }
    },
    {
      "cell_type": "code",
      "execution_count": 60,
      "outputs": [
        {
          "name": "stderr",
          "text": [
            "C:\\Users\\Gary\\Anaconda3\\envs\\Jupyter-Playground\\lib\\site-packages\\tensorflow\\python\\client\\session.py:1702: UserWarning: An interactive session is already active. This can cause out-of-memory errors in some cases. You must explicitly call `InteractiveSession.close()` to release resources held by the other session(s).\n  warnings.warn(\u0027An interactive session is already active. This can \u0027\n"
          ],
          "output_type": "stream"
        }
      ],
      "source": "sess \u003d tf.InteractiveSession()",
      "metadata": {
        "pycharm": {
          "metadata": false,
          "name": "#%%\n",
          "is_executing": false
        }
      }
    },
    {
      "cell_type": "code",
      "execution_count": 62,
      "outputs": [],
      "source": "my_tensor \u003d tf.random_uniform((4,4),0,1)",
      "metadata": {
        "pycharm": {
          "metadata": false,
          "name": "#%%\n",
          "is_executing": false
        }
      }
    },
    {
      "cell_type": "code",
      "execution_count": 63,
      "outputs": [
        {
          "data": {
            "text/plain": "\u003ctf.Tensor \u0027random_uniform_2:0\u0027 shape\u003d(4, 4) dtype\u003dfloat32\u003e"
          },
          "metadata": {},
          "output_type": "execute_result",
          "execution_count": 63
        }
      ],
      "source": "my_tensor",
      "metadata": {
        "pycharm": {
          "metadata": false,
          "name": "#%%\n",
          "is_executing": false
        }
      }
    },
    {
      "cell_type": "code",
      "execution_count": 64,
      "outputs": [
        {
          "name": "stdout",
          "text": [
            "WARNING:tensorflow:From C:\\Users\\Gary\\Anaconda3\\envs\\Jupyter-Playground\\lib\\site-packages\\tensorflow\\python\\framework\\op_def_library.py:263: colocate_with (from tensorflow.python.framework.ops) is deprecated and will be removed in a future version.\nInstructions for updating:\nColocations handled automatically by placer.\n"
          ],
          "output_type": "stream"
        }
      ],
      "source": "my_var \u003d tf.Variable(initial_value\u003dmy_tensor)",
      "metadata": {
        "pycharm": {
          "metadata": false,
          "name": "#%%\n",
          "is_executing": false
        }
      }
    },
    {
      "cell_type": "code",
      "execution_count": 65,
      "outputs": [
        {
          "name": "stdout",
          "text": [
            "\u003ctf.Variable \u0027Variable:0\u0027 shape\u003d(4, 4) dtype\u003dfloat32_ref\u003e\n"
          ],
          "output_type": "stream"
        }
      ],
      "source": "print(my_var)",
      "metadata": {
        "pycharm": {
          "metadata": false,
          "name": "#%%\n",
          "is_executing": false
        }
      }
    },
    {
      "cell_type": "code",
      "execution_count": 69,
      "outputs": [
        {
          "data": {
            "text/plain": "array([[0.18592286, 0.56304705, 0.04508662, 0.68050456],\n       [0.28228605, 0.5577047 , 0.7996868 , 0.5406654 ],\n       [0.40262985, 0.20782518, 0.7533634 , 0.5015569 ],\n       [0.18893635, 0.21534693, 0.38704312, 0.32877302]], dtype\u003dfloat32)"
          },
          "metadata": {},
          "output_type": "execute_result",
          "execution_count": 69
        }
      ],
      "source": "sess.run(my_var)",
      "metadata": {
        "pycharm": {
          "metadata": false,
          "name": "#%%\n",
          "is_executing": false
        }
      }
    },
    {
      "cell_type": "code",
      "execution_count": 67,
      "outputs": [],
      "source": "init \u003d tf.global_variables_initializer()",
      "metadata": {
        "pycharm": {
          "metadata": false,
          "name": "#%%\n",
          "is_executing": false
        }
      }
    },
    {
      "cell_type": "code",
      "execution_count": 68,
      "outputs": [],
      "source": "sess.run(init)",
      "metadata": {
        "pycharm": {
          "metadata": false,
          "name": "#%%\n",
          "is_executing": false
        }
      }
    },
    {
      "cell_type": "code",
      "execution_count": 70,
      "outputs": [],
      "source": "ph \u003d tf.placeholder(tf.float32)",
      "metadata": {
        "pycharm": {
          "metadata": false,
          "name": "#%%\n",
          "is_executing": false
        }
      }
    },
    {
      "cell_type": "code",
      "execution_count": null,
      "outputs": [],
      "source": "\n",
      "metadata": {
        "pycharm": {
          "metadata": false,
          "name": "#%%\n"
        }
      }
    }
  ],
  "metadata": {
    "language_info": {
      "codemirror_mode": {
        "name": "ipython",
        "version": 2
      },
      "file_extension": ".py",
      "mimetype": "text/x-python",
      "name": "python",
      "nbconvert_exporter": "python",
      "pygments_lexer": "ipython2",
      "version": "2.7.6"
    },
    "kernelspec": {
      "name": "python3",
      "language": "python",
      "display_name": "Python 3"
    }
  },
  "nbformat": 4,
  "nbformat_minor": 0
}